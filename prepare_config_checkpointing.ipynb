{
 "cells": [
  {
   "cell_type": "code",
   "execution_count": 5,
   "metadata": {},
   "outputs": [],
   "source": [
    "from dataclasses import dataclass, asdict\n",
    "import orbax.checkpoint as ocp\n",
    "\n",
    "\n",
    "@dataclass(frozen=True)\n",
    "class TrainConfig:\n",
    "    keep_checkpoints: int = 3  # number of historical checkpoints to keep\n",
    "    batch_size: int = 16  # per-device batch size\n",
    "\n",
    "\n",
    "checkpoint_manager = ocp.CheckpointManager(\n",
    "    ocp.test_utils.erase_and_create_empty(\n",
    "        \"/var/local/ML/TRAIN/STAGE/prepare_config_checkpointing/\"\n",
    "    ),\n",
    "    options=ocp.CheckpointManagerOptions(\n",
    "        max_to_keep=2,\n",
    "        keep_checkpoints_without_metrics=False,\n",
    "        create=True,\n",
    "    ),\n",
    ")\n",
    "\n",
    "checkpoint_manager.save(0, args=ocp.args.JsonSave(asdict(TrainConfig())))\n",
    "checkpoint_manager.wait_until_finished()"
   ]
  },
  {
   "cell_type": "code",
   "execution_count": 9,
   "metadata": {},
   "outputs": [
    {
     "data": {
      "text/plain": [
       "{'keep_checkpoints': 3, 'batch_size': 16}"
      ]
     },
     "execution_count": 9,
     "metadata": {},
     "output_type": "execute_result"
    }
   ],
   "source": [
    "restored = checkpoint_manager.restore(0, args=ocp.args.JsonRestore())\n",
    "restored"
   ]
  }
 ],
 "metadata": {
  "kernelspec": {
   "display_name": "jax",
   "language": "python",
   "name": "python3"
  },
  "language_info": {
   "codemirror_mode": {
    "name": "ipython",
    "version": 3
   },
   "file_extension": ".py",
   "mimetype": "text/x-python",
   "name": "python",
   "nbconvert_exporter": "python",
   "pygments_lexer": "ipython3",
   "version": "3.9.14"
  }
 },
 "nbformat": 4,
 "nbformat_minor": 2
}
